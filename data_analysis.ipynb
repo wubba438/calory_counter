{
 "cells": [
  {
   "cell_type": "code",
   "execution_count": 2,
   "metadata": {},
   "outputs": [
    {
     "name": "stdout",
     "output_type": "stream",
     "text": [
      "[{'id': 'meal-1', 'name': 'hamburger', 'calories': 600, 'price': 5}, {'id': 'meal-2', 'name': 'cheese burger', 'calories': 750, 'price': 7}, {'id': 'meal-3', 'name': 'veggie burger', 'calories': 400, 'price': 6}, {'id': 'meal-4', 'name': 'vegan burger', 'calories': 350, 'price': 6}, {'id': 'meal-5', 'name': 'sweet potatoes', 'calories': 230, 'price': 3}, {'id': 'meal-6', 'name': 'salad', 'calories': 15, 'price': 4}, {'id': 'meal-7', 'name': 'iced tea', 'calories': 70, 'price': 2}, {'id': 'meal-8', 'name': 'lemonade', 'calories': 90, 'price': 2}]\n",
      "['/Users/zhouyanqing/Documents/python_9_10_11_2023/calory_counter', '/Library/Frameworks/Python.framework/Versions/3.11/lib/python311.zip', '/Library/Frameworks/Python.framework/Versions/3.11/lib/python3.11', '/Library/Frameworks/Python.framework/Versions/3.11/lib/python3.11/lib-dynload', '', '/Users/zhouyanqing/Documents/python_9_10_11_2023/calory_counter/.my_venv/lib/python3.11/site-packages']\n"
     ]
    }
   ],
   "source": [
    "import json\n",
    "from module.orders import Order\n",
    "import pandas as pd\n",
    "import numpy as np\n",
    "import matplotlib.pyplot as plt \n",
    "\n",
    "with open(\"example_data/orders_history.json\",\"r\") as f:\n",
    "    orders_history = json.load(f)[\"orders\"]\n",
    "\n",
    "orders_prepared = []\n",
    "for order in orders_history:\n",
    "    orders_prepared.append(Order(order['items'], order['date']))"
   ]
  },
  {
   "cell_type": "code",
   "execution_count": 3,
   "metadata": {},
   "outputs": [
    {
     "name": "stdout",
     "output_type": "stream",
     "text": [
      "          order_id  order_accepted                    order_refused_reason  \\\n",
      "0          order-1            True                                    None   \n",
      "1          order-2            True                                    None   \n",
      "2          order-3           False  Meal is too big! 2170 is way too much!   \n",
      "3          order-4            True                                    None   \n",
      "4          order-5            True                                    None   \n",
      "...            ...             ...                                     ...   \n",
      "36914  order-36915            True                                    None   \n",
      "36915  order-36916            True                                    None   \n",
      "36916  order-36917            True                                    None   \n",
      "36917  order-36918            True                                    None   \n",
      "36918  order-36919           False  Meal is too big! 2120 is way too much!   \n",
      "\n",
      "            date  calories  price  \n",
      "0     2022-01-01       995     14  \n",
      "1     2022-01-01      1140     23  \n",
      "2     2022-01-01         0      0  \n",
      "3     2022-01-01      1525     21  \n",
      "4     2022-01-01      1450     17  \n",
      "...          ...       ...    ...  \n",
      "36914 2022-12-31      1480     19  \n",
      "36915 2022-12-31       475     10  \n",
      "36916 2022-12-31      1835     27  \n",
      "36917 2022-12-31      1055     15  \n",
      "36918 2022-12-31         0      0  \n",
      "\n",
      "[36919 rows x 6 columns]\n"
     ]
    }
   ],
   "source": [
    "order_data_structure = []\n",
    "for order in orders_prepared:\n",
    "    order_id = order.order_id\n",
    "    order_accepted = order.order_accepted\n",
    "    order_refused_reason = order.order_refused_reason\n",
    "    date = order.date\n",
    "    if order_accepted == True:\n",
    "        calories = order.calories\n",
    "    else:\n",
    "        calories = 0\n",
    "    if order_accepted == True:\n",
    "        price = order.price\n",
    "    else:\n",
    "        price = 0\n",
    "    order_data_structure.append([order_id, order_accepted, order_refused_reason, date, calories, price])\n",
    "\n",
    "# Create a Pandas DataFrame from the collected data\n",
    "df = pd.DataFrame(order_data_structure, columns=['order_id', 'order_accepted', 'order_refused_reason', 'date', 'calories', 'price'])\n",
    "print(df)"
   ]
  },
  {
   "cell_type": "code",
   "execution_count": 4,
   "metadata": {},
   "outputs": [
    {
     "data": {
      "text/html": [
       "<div>\n",
       "<style scoped>\n",
       "    .dataframe tbody tr th:only-of-type {\n",
       "        vertical-align: middle;\n",
       "    }\n",
       "\n",
       "    .dataframe tbody tr th {\n",
       "        vertical-align: top;\n",
       "    }\n",
       "\n",
       "    .dataframe thead th {\n",
       "        text-align: right;\n",
       "    }\n",
       "</style>\n",
       "<table border=\"1\" class=\"dataframe\">\n",
       "  <thead>\n",
       "    <tr style=\"text-align: right;\">\n",
       "      <th></th>\n",
       "      <th>order_id</th>\n",
       "      <th>order_accepted</th>\n",
       "      <th>order_refused_reason</th>\n",
       "      <th>date</th>\n",
       "      <th>calories</th>\n",
       "      <th>price</th>\n",
       "    </tr>\n",
       "  </thead>\n",
       "  <tbody>\n",
       "    <tr>\n",
       "      <th>0</th>\n",
       "      <td>order-1</td>\n",
       "      <td>True</td>\n",
       "      <td>None</td>\n",
       "      <td>2022-01-01</td>\n",
       "      <td>995</td>\n",
       "      <td>14</td>\n",
       "    </tr>\n",
       "    <tr>\n",
       "      <th>1</th>\n",
       "      <td>order-2</td>\n",
       "      <td>True</td>\n",
       "      <td>None</td>\n",
       "      <td>2022-01-01</td>\n",
       "      <td>1140</td>\n",
       "      <td>23</td>\n",
       "    </tr>\n",
       "    <tr>\n",
       "      <th>2</th>\n",
       "      <td>order-3</td>\n",
       "      <td>False</td>\n",
       "      <td>Meal is too big! 2170 is way too much!</td>\n",
       "      <td>2022-01-01</td>\n",
       "      <td>0</td>\n",
       "      <td>0</td>\n",
       "    </tr>\n",
       "    <tr>\n",
       "      <th>3</th>\n",
       "      <td>order-4</td>\n",
       "      <td>True</td>\n",
       "      <td>None</td>\n",
       "      <td>2022-01-01</td>\n",
       "      <td>1525</td>\n",
       "      <td>21</td>\n",
       "    </tr>\n",
       "    <tr>\n",
       "      <th>4</th>\n",
       "      <td>order-5</td>\n",
       "      <td>True</td>\n",
       "      <td>None</td>\n",
       "      <td>2022-01-01</td>\n",
       "      <td>1450</td>\n",
       "      <td>17</td>\n",
       "    </tr>\n",
       "  </tbody>\n",
       "</table>\n",
       "</div>"
      ],
      "text/plain": [
       "  order_id  order_accepted                    order_refused_reason       date  \\\n",
       "0  order-1            True                                    None 2022-01-01   \n",
       "1  order-2            True                                    None 2022-01-01   \n",
       "2  order-3           False  Meal is too big! 2170 is way too much! 2022-01-01   \n",
       "3  order-4            True                                    None 2022-01-01   \n",
       "4  order-5            True                                    None 2022-01-01   \n",
       "\n",
       "   calories  price  \n",
       "0       995     14  \n",
       "1      1140     23  \n",
       "2         0      0  \n",
       "3      1525     21  \n",
       "4      1450     17  "
      ]
     },
     "execution_count": 4,
     "metadata": {},
     "output_type": "execute_result"
    }
   ],
   "source": [
    "df.head()"
   ]
  },
  {
   "cell_type": "code",
   "execution_count": null,
   "metadata": {},
   "outputs": [],
   "source": [
    "#show the data structure\n",
    "df.shape"
   ]
  },
  {
   "cell_type": "code",
   "execution_count": null,
   "metadata": {},
   "outputs": [],
   "source": [
    "#describe the distribution of calories\n",
    "df['calories'].describe()"
   ]
  },
  {
   "cell_type": "code",
   "execution_count": null,
   "metadata": {},
   "outputs": [],
   "source": [
    "#describe the distribution of price\n",
    "df['price'].describe()"
   ]
  },
  {
   "cell_type": "code",
   "execution_count": null,
   "metadata": {},
   "outputs": [],
   "source": [
    "#calculate order accepted rate\n",
    "df['order_accepted'].value_counts(True)"
   ]
  },
  {
   "cell_type": "code",
   "execution_count": null,
   "metadata": {},
   "outputs": [],
   "source": [
    "calories_per_day = df.groupby('date', as_index=False)['calories'].sum()\n",
    "plot = calories_per_day.plot(\n",
    "    x = 'date',\n",
    "    y = 'calories',\n",
    "    kind = 'bar',\n",
    "    figsize = (7,4),\n",
    "    title = 'Calories per day',\n",
    ")"
   ]
  },
  {
   "cell_type": "code",
   "execution_count": null,
   "metadata": {},
   "outputs": [],
   "source": [
    "calories_per_day = df.groupby(df.date.dt.month)['calories'].sum()\n",
    "plt.plot = calories_per_day.plot(\n",
    "    x = 'date',\n",
    "    y = 'calories',\n",
    "    kind = 'bar',\n",
    "    figsize = (7,3),\n",
    "    title = 'Calories per month',\n",
    ")"
   ]
  },
  {
   "cell_type": "code",
   "execution_count": null,
   "metadata": {},
   "outputs": [],
   "source": [
    "earnings_per_day = df.groupby('date', as_index=False)['price'].sum()\n",
    "plot = earnings_per_day.plot(\n",
    "    x = 'date',\n",
    "    y = 'price',\n",
    "    kind = 'bar',\n",
    "    figsize = (7,3),\n",
    "    title = 'Earnings per day',\n",
    ")\n",
    "\n"
   ]
  },
  {
   "cell_type": "code",
   "execution_count": null,
   "metadata": {},
   "outputs": [],
   "source": [
    "earnings_per_day = df.groupby(df.date.dt.month)['price'].sum()\n",
    "plot = earnings_per_day.plot(\n",
    "    x = 'month',\n",
    "    y = 'price',\n",
    "    kind = 'bar',\n",
    "    figsize = (7,3),\n",
    "    title = 'Earnings per month',\n",
    ")"
   ]
  },
  {
   "cell_type": "code",
   "execution_count": 57,
   "metadata": {},
   "outputs": [
    {
     "data": {
      "text/plain": [
       "<matplotlib.collections.PathCollection at 0x2a7dd0d10>"
      ]
     },
     "execution_count": 57,
     "metadata": {},
     "output_type": "execute_result"
    },
    {
     "data": {
      "image/png": "[encoded data removed]",
      "text/plain": [
       "<Figure size 600x400 with 1 Axes>"
      ]
     },
     "metadata": {},
     "output_type": "display_data"
    }
   ],
   "source": [
    "# Create a scatter plot for price and calories\n",
    "plt.figure(figsize=(6, 4))\n",
    "plt.scatter(calories, price, label='scatter plot for calories and price', color='blue')\n"
   ]
  }
 ],
 "metadata": {
  "kernelspec": {
   "display_name": ".my_venv",
   "language": "python",
   "name": "python3"
  },
  "language_info": {
   "codemirror_mode": {
    "name": "ipython",
    "version": 3
   },
   "file_extension": ".py",
   "mimetype": "text/x-python",
   "name": "python",
   "nbconvert_exporter": "python",
   "pygments_lexer": "ipython3",
   "version": "3.11.5"
  },
  "orig_nbformat": 4
 },
 "nbformat": 4,
 "nbformat_minor": 2
}
